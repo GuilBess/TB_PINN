{
 "cells": [
  {
   "cell_type": "markdown",
   "id": "4e9fe51d",
   "metadata": {},
   "source": [
    "venv:\n",
    "- conda create -n pinn python=3\n",
    "- conda activate pinn\n",
    "- conda install jupyter numpy matplotlib\n",
    "- conda install pytorch torchvision torchaudio -c pytorch"
   ]
  },
  {
   "cell_type": "code",
   "execution_count": 4,
   "id": "db0130d7",
   "metadata": {},
   "outputs": [],
   "source": [
    "import numpy as np\n",
    "import torch\n",
    "import torch.nn as nn\n",
    "import matplotlib.pyplot as plt"
   ]
  },
  {
   "cell_type": "code",
   "execution_count": 5,
   "id": "b44af139",
   "metadata": {},
   "outputs": [
    {
     "data": {
      "text/plain": [
       "device(type='cpu')"
      ]
     },
     "execution_count": 5,
     "metadata": {},
     "output_type": "execute_result"
    }
   ],
   "source": [
    "# Use cuda if available (use model.to(device) to run on device)\n",
    "device = torch.device(\"cuda\" if torch.cuda.is_available() else \"cpu\")\n",
    "device"
   ]
  },
  {
   "cell_type": "code",
   "execution_count": null,
   "id": "ea702b34",
   "metadata": {},
   "outputs": [],
   "source": [
    "class Model(nn.Module):\n",
    "    # defines a fully connected neural network, with a tanh activation function\n",
    "    def __init__(self, inputs, outputs, hidden, n_layers):\n",
    "        super.__init__()\n",
    "        act_f = nn.Tanh\n",
    "\n",
    "        # First layer, \"*\" unpacks the list into arguments of nn.Sequential\n",
    "        self.fcs = nn.Sequential(*[\n",
    "                        nn.Linear(inputs, hidden),\n",
    "                        act_f()])\n",
    "        \n",
    "        # Hidden layers with activation function\n",
    "        self.fch = nn.Sequential(*[\n",
    "                        nn.Sequential(*[\n",
    "                            nn.Linear(hidden, hidden),\n",
    "                            act_f()]) for _ in range(n_layers-1)])\n",
    "        \n",
    "        # Final layer that maps from last hidden layer to output size\n",
    "        self.fce = nn.Linear(hidden, outputs)\n",
    "    \n",
    "    def forward(self, x):\n",
    "        x = self.fcs(x)\n",
    "        x = self.fch(x)\n",
    "        x = self.fce(x)\n",
    "        return x\n"
   ]
  }
 ],
 "metadata": {
  "kernelspec": {
   "display_name": "pinn",
   "language": "python",
   "name": "python3"
  },
  "language_info": {
   "codemirror_mode": {
    "name": "ipython",
    "version": 3
   },
   "file_extension": ".py",
   "mimetype": "text/x-python",
   "name": "python",
   "nbconvert_exporter": "python",
   "pygments_lexer": "ipython3",
   "version": "3.10.16"
  }
 },
 "nbformat": 4,
 "nbformat_minor": 5
}
